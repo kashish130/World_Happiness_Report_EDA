{
 "cells": [
  {
   "cell_type": "code",
   "execution_count": null,
   "id": "3e73ca6a",
   "metadata": {},
   "outputs": [],
   "source": [
    "#importing libraries\n",
    "import numpy as np\n",
    "import pandas as pd\n",
    "import matplotlib.pyplot as plt\n",
    "import seaborn as sns\n",
    "%matplotlib inline"
   ]
  },
  {
   "cell_type": "code",
   "execution_count": null,
   "id": "570cff7e",
   "metadata": {},
   "outputs": [],
   "source": [
    "#Reading the dataset\n",
    "df = pd.read_csv(\"C:\\\\Users\\\\user\\\\Desktop\\\\EDA\\\\WHR2023.csv\")\n",
    "df.head(10)"
   ]
  },
  {
   "cell_type": "code",
   "execution_count": null,
   "id": "ec69d77d",
   "metadata": {},
   "outputs": [],
   "source": [
    "df.shape"
   ]
  },
  {
   "cell_type": "code",
   "execution_count": null,
   "id": "92d31a33",
   "metadata": {},
   "outputs": [],
   "source": [
    "df_columns = ['Country name','Ladder score','Logged GDP per capita','Social support','Healthy life expectancy','Freedom to make life choices','Generosity','Perceptions of corruption']"
   ]
  },
  {
   "cell_type": "code",
   "execution_count": null,
   "id": "97316ec1",
   "metadata": {},
   "outputs": [],
   "source": [
    "data = df[df_columns].copy()"
   ]
  },
  {
   "cell_type": "code",
   "execution_count": null,
   "id": "146bd18e",
   "metadata": {},
   "outputs": [],
   "source": [
    "data.head()"
   ]
  },
  {
   "cell_type": "code",
   "execution_count": null,
   "id": "7c7aa7a4",
   "metadata": {},
   "outputs": [],
   "source": [
    "#Checking for the null values\n",
    "data.isnull().sum()"
   ]
  },
  {
   "cell_type": "code",
   "execution_count": null,
   "id": "640dc1d1",
   "metadata": {},
   "outputs": [],
   "source": [
    "data.fillna(value = data['Healthy life expectancy'].mean(),inplace=True)"
   ]
  },
  {
   "cell_type": "code",
   "execution_count": null,
   "id": "64909fe5",
   "metadata": {},
   "outputs": [],
   "source": [
    "sns.set_style('darkgrid')\n",
    "plt.rcParams['font.size']=15\n",
    "plt.rcParams['figure.figsize'] =(10,7)\n",
    "plt.rcParams['figure.facecolor'] = '#F7D560'"
   ]
  },
  {
   "cell_type": "code",
   "execution_count": null,
   "id": "6448773b",
   "metadata": {},
   "outputs": [],
   "source": [
    "plt.figure(figsize=(16,6))\n",
    "plt.title(\" Top 10 Countries with highest GDP per capita\")\n",
    "plt.xticks(rotation=40,ha='right')\n",
    "sns.barplot(x='Country name', y='Logged GDP per capita',data=df.sort_values('Logged GDP per capita', ascending=False).iloc[:10])\n",
    "plt.ylabel(\"GDP per capita\")"
   ]
  },
  {
   "cell_type": "code",
   "execution_count": null,
   "id": "7ac7336e",
   "metadata": {},
   "outputs": [],
   "source": [
    "plt.figure(figsize=(16,6))\n",
    "plt.title(\" Top 10 Countries with highest social support\")\n",
    "plt.xticks(rotation=40,ha='right')\n",
    "sns.barplot(x='Country name', y='Social support',data=df.sort_values('Social support', ascending=False).iloc[:10])\n"
   ]
  },
  {
   "cell_type": "code",
   "execution_count": null,
   "id": "32a5552f",
   "metadata": {},
   "outputs": [],
   "source": [
    "plt.figure(figsize=(16,6))\n",
    "plt.title(\" Countries with most Perceptions of Corruption\")\n",
    "plt.xticks(rotation=30,ha='right')\n",
    "sns.barplot(x='Country name', y='Perceptions of corruption',data=df.sort_values('Perceptions of corruption', ascending=False).iloc[:10])"
   ]
  },
  {
   "cell_type": "code",
   "execution_count": null,
   "id": "91050f73",
   "metadata": {},
   "outputs": [],
   "source": [
    "plt.figure(figsize=(16,6))\n",
    "plt.title(\"Top 10 Countries with lowest Perceptions of Corruption\")\n",
    "sns.barplot(x='Country name', y='Perceptions of corruption',data=df.sort_values('Perceptions of corruption', ascending=True).iloc[:10])"
   ]
  },
  {
   "cell_type": "code",
   "execution_count": null,
   "id": "411aef57",
   "metadata": {},
   "outputs": [],
   "source": [
    "plt.figure(figsize=(16,6))\n",
    "plt.title(\"Top 10 Happiest Countries Healthy Life Expectancy\")\n",
    "sns.barplot(x='Country name', y='Healthy life expectancy',data=df.sort_values('Ladder score', ascending=False).iloc[:10])"
   ]
  },
  {
   "cell_type": "code",
   "execution_count": null,
   "id": "40018694",
   "metadata": {},
   "outputs": [],
   "source": [
    "plt.figure(figsize=(16,6))\n",
    "plt.title(\"Bottom 10 least happy Countries Healthy Life Expectancy\")\n",
    "plt.xticks(rotation=30,ha='right')\n",
    "sns.barplot(x='Country name', y='Healthy life expectancy',data=df.sort_values('Ladder score', ascending=True).iloc[:10])\n"
   ]
  },
  {
   "cell_type": "code",
   "execution_count": null,
   "id": "58adc7d8",
   "metadata": {},
   "outputs": [],
   "source": [
    "plt.figure(figsize=(20,5))\n",
    "plt.title('Top 10 Most Generous Countries')\n",
    "sns.barplot(x='Country name', y='Generosity',data=df.sort_values('Generosity', ascending=False).iloc[:10])"
   ]
  },
  {
   "cell_type": "code",
   "execution_count": null,
   "id": "b8bc08e7",
   "metadata": {},
   "outputs": [],
   "source": [
    "plt.rcParams['figure.figsize']=(15,7)\n",
    "plt.title('Plot between Happiness Score and GDP')\n",
    "sns.scatterplot(x=data['Ladder score'], y= data['Logged GDP per capita'])\n",
    "plt.xlabel('Happiness Score')\n",
    "plt.ylabel('GDP per Capita')"
   ]
  },
  {
   "cell_type": "code",
   "execution_count": null,
   "id": "06f68e9f",
   "metadata": {},
   "outputs": [],
   "source": [
    "plt.rcParams['figure.figsize']=(15,7)\n",
    "plt.title('Plot between Happiness Score and Healthy life expectancy')\n",
    "sns.scatterplot(x=data['Ladder score'], y= data['Healthy life expectancy'], color = 'red')\n",
    "plt.xlabel('Happiness Score')\n",
    "plt.ylabel('Healthy life expectancy')"
   ]
  },
  {
   "cell_type": "code",
   "execution_count": null,
   "id": "e3a23163",
   "metadata": {},
   "outputs": [],
   "source": [
    "#Correlation Map\n",
    "cor = data.corr(method = \"pearson\")\n",
    "f,ax = plt.subplots(figsize=(10,5))\n",
    "sns.heatmap(cor,mask=np.zeros_like(cor,dtype=np.bool),cmap=\"Blues\",square=True,ax=ax)"
   ]
  },
  {
   "cell_type": "code",
   "execution_count": null,
   "id": "d4373ec3",
   "metadata": {},
   "outputs": [],
   "source": [
    "sns.pairplot(data)"
   ]
  },
  {
   "cell_type": "code",
   "execution_count": null,
   "id": "0a19ab92",
   "metadata": {},
   "outputs": [],
   "source": [
    "plt.rcParams['figure.figsize']=(15,7)\n",
    "plt.title('Plot between Happiness score and Freedom to make life choices')\n",
    "sns.scatterplot(x=data['Freedom to make life choices'],y=data['Ladder score'])\n",
    "plt.ylabel('Happiness score')\n"
   ]
  },
  {
   "cell_type": "code",
   "execution_count": null,
   "id": "ee7aaa7c",
   "metadata": {},
   "outputs": [],
   "source": [
    "#corruption vs happiness\n",
    "plt.rcParams['figure.figsize']=(15,7)\n",
    "plt.title('Corruption vs Happiness')\n",
    "sns.scatterplot(x=data['Ladder score'],y= data['Perceptions of corruption'])\n",
    "plt.xlabel('Happiness Score')\n",
    "plt.ylabel('Coruption')"
   ]
  },
  {
   "cell_type": "markdown",
   "id": "0f163cc0",
   "metadata": {},
   "source": [
    "##### Hierarchical Clustering"
   ]
  },
  {
   "cell_type": "code",
   "execution_count": null,
   "id": "454d436f",
   "metadata": {},
   "outputs": [],
   "source": [
    "data_no = data.drop(['Country name'],axis=1)"
   ]
  },
  {
   "cell_type": "code",
   "execution_count": null,
   "id": "eb458022",
   "metadata": {},
   "outputs": [],
   "source": [
    "from sklearn.preprocessing import normalize\n",
    "data_scaled = normalize(data_no)\n",
    "data_scaled = pd.DataFrame(data_scaled, columns=data_no.columns)\n",
    "datasc=data_scaled.copy()\n",
    "data_scaled.head()"
   ]
  },
  {
   "cell_type": "code",
   "execution_count": null,
   "id": "2d8cbd0f",
   "metadata": {},
   "outputs": [],
   "source": [
    "import scipy.cluster.hierarchy as shc\n",
    "plt.figure(figsize=(10, 8))  \n",
    "plt.title(\"Dendrograms\")  \n",
    "dend = shc.dendrogram(shc.linkage(data_scaled, method='ward'))"
   ]
  },
  {
   "cell_type": "code",
   "execution_count": null,
   "id": "b6c639b4",
   "metadata": {},
   "outputs": [],
   "source": [
    "from sklearn.cluster import AgglomerativeClustering\n",
    "cluster = AgglomerativeClustering(n_clusters=2, affinity='euclidean', linkage='ward')  \n",
    "cluster.fit_predict(data_scaled)"
   ]
  },
  {
   "cell_type": "markdown",
   "id": "ff2a6801",
   "metadata": {},
   "source": [
    "->0 belongs to cluster 1\n",
    "\n",
    "->1 belings to clustre 2"
   ]
  },
  {
   "cell_type": "code",
   "execution_count": null,
   "id": "1d09097c",
   "metadata": {},
   "outputs": [],
   "source": [
    "plt.figure(figsize=(6, 5))  \n",
    "plt.scatter(data_scaled['Logged GDP per capita'], data_scaled['Perceptions of corruption'], c=cluster.labels_) \n",
    "plt.xlabel('GDP per Capita')\n",
    "plt.ylabel('Perceptions of Corruption')\n",
    "plt.colorbar()"
   ]
  },
  {
   "cell_type": "markdown",
   "id": "2728b323",
   "metadata": {},
   "source": [
    "##### K-Means Clustering "
   ]
  },
  {
   "cell_type": "code",
   "execution_count": null,
   "id": "44098658",
   "metadata": {},
   "outputs": [],
   "source": [
    "X = data_scaled[[\"Social support\",\"Healthy life expectancy\"]]\n",
    "plt.scatter(x=X[\"Social support\"],y=X[\"Healthy life expectancy\"],c='pink')\n",
    "plt.xlabel(\"Social Support\")\n",
    "plt.ylabel(\"Healthy life expectancy\")\n",
    "plt.show()"
   ]
  },
  {
   "cell_type": "code",
   "execution_count": null,
   "id": "1feb7e01",
   "metadata": {},
   "outputs": [],
   "source": [
    "#Performing K MEANS CLUSTERING with 3 clusters\n",
    "from sklearn.cluster import KMeans\n",
    "\n",
    "kmeans = KMeans(n_clusters=3).fit(X)\n",
    "centroids = kmeans.cluster_centers_\n",
    "print(centroids)\n",
    "\n",
    "plt.scatter(X['Social support'], X['Healthy life expectancy'], c= kmeans.labels_.astype(float), alpha=0.5)\n",
    "plt.scatter(centroids[:, 0], centroids[:, 1], c='red')\n",
    "plt.show()"
   ]
  }
 ],
 "metadata": {
  "kernelspec": {
   "display_name": "Python 3 (ipykernel)",
   "language": "python",
   "name": "python3"
  },
  "language_info": {
   "codemirror_mode": {
    "name": "ipython",
    "version": 3
   },
   "file_extension": ".py",
   "mimetype": "text/x-python",
   "name": "python",
   "nbconvert_exporter": "python",
   "pygments_lexer": "ipython3",
   "version": "3.9.12"
  }
 },
 "nbformat": 4,
 "nbformat_minor": 5
}
